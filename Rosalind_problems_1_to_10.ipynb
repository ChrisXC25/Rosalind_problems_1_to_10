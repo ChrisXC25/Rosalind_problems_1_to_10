{
  "nbformat": 4,
  "nbformat_minor": 0,
  "metadata": {
    "colab": {
      "provenance": []
    },
    "kernelspec": {
      "name": "python3",
      "display_name": "Python 3"
    },
    "language_info": {
      "name": "python"
    }
  },
  "cells": [
    {
      "cell_type": "code",
      "execution_count": null,
      "metadata": {
        "id": "pMTAgFxOyGCx"
      },
      "outputs": [],
      "source": [
        "# Rosalind_problems"
      ]
    },
    {
      "cell_type": "code",
      "source": [
        "#Install packages\n"
      ],
      "metadata": {
        "id": "-2ZGXosmyKvM"
      },
      "execution_count": null,
      "outputs": []
    },
    {
      "cell_type": "markdown",
      "source": [
        "**Problem1**\n",
        "\n",
        "A string is simply an ordered collection of symbols selected from some alphabet and formed into a word; the length of a string is the number of symbols that it contains.\n",
        "\n",
        "An example of a length 21 DNA string (whose alphabet contains the symbols 'A', 'C', 'G', and 'T') is \"ATGCTTCAGAAAGGTCTTACG.\"\n",
        "\n",
        "Given: A DNA string s\n",
        " of length at most 1000 nt.\n",
        "\n",
        "Return: Four integers (separated by spaces) counting the respective number of times that the symbols 'A', 'C', 'G', and 'T' occur in s\n",
        ".\n",
        "\n",
        "Sample Dataset\n",
        "AGCTTTTCATTCTGACTGCAACGGGCAATATGTCTCTGTGTGGATTAAAAAAAGAGTGTCTGATAGCAGC\n",
        "Sample Output\n",
        "20 12 17 21"
      ],
      "metadata": {
        "id": "SkeuniMJypKK"
      }
    },
    {
      "cell_type": "code",
      "source": [
        "#Problem 1: Counting DNA Nucleotides\n",
        "\n",
        "def count_nucleotides(dna_string):\n",
        "    # Initialize counters\n",
        "    count_A = 0\n",
        "    count_C = 0\n",
        "    count_G = 0\n",
        "    count_T = 0\n",
        "\n",
        "    # Iterate through the string and count nucleotides\n",
        "    for nucleotide in dna_string:\n",
        "        if nucleotide == 'A':\n",
        "            count_A += 1\n",
        "        elif nucleotide == 'C':\n",
        "            count_C += 1\n",
        "        elif nucleotide == 'G':\n",
        "            count_G += 1\n",
        "        elif nucleotide == 'T':\n",
        "            count_T += 1\n",
        "\n",
        "    # Print the counts\n",
        "    print(count_A, count_C, count_G, count_T)\n",
        "\n",
        "# Sample dataset\n",
        "sample_dataset = \"AGCTTTTCATTCTGACTGCAACGGGCAATATGTCTCTGTGTGGATTAAAAAAAGAGTGTCTGATAGCAGC\"\n",
        "count_nucleotides(sample_dataset)\n"
      ],
      "metadata": {
        "id": "DoKb9I5JyK6I",
        "colab": {
          "base_uri": "https://localhost:8080/"
        },
        "outputId": "f4d82502-197a-471b-d8e4-d8e70b357360"
      },
      "execution_count": 1,
      "outputs": [
        {
          "output_type": "stream",
          "name": "stdout",
          "text": [
            "20 12 17 21\n"
          ]
        }
      ]
    },
    {
      "cell_type": "markdown",
      "source": [
        "**Problem2**\n",
        "\n",
        "An RNA string is a string formed from the alphabet containing 'A', 'C', 'G', and 'U'.\n",
        "\n",
        "Given a DNA string t\n",
        " corresponding to a coding strand, its transcribed RNA string u\n",
        " is formed by replacing all occurrences of 'T' in t\n",
        " with 'U' in u\n",
        ".\n",
        "\n",
        "Given: A DNA string t\n",
        " having length at most 1000 nt.\n",
        "\n",
        "Return: The transcribed RNA string of t\n",
        ".\n",
        "\n",
        "Sample Dataset\n",
        "GATGGAACTTGACTACGTAAATT\n",
        "\n",
        "Sample Output\n",
        "GAUGGAACUUGACUACGUAAAUU"
      ],
      "metadata": {
        "id": "loFoJJ9e0h9l"
      }
    },
    {
      "cell_type": "code",
      "source": [
        "#Problem 2 Transcripting DNA to RNA\n",
        "\n",
        "dna_string = 'GATGGAACTTGACTACGTAAATT'\n",
        "\n",
        "# Replace 'T' with 'U'\n",
        "rna_string = dna_string.replace('T', 'U')\n",
        "\n",
        "# Print the RNA string\n",
        "print(rna_string)\n"
      ],
      "metadata": {
        "id": "ZK3jKIfqyLG6",
        "colab": {
          "base_uri": "https://localhost:8080/"
        },
        "outputId": "f76ce45d-a285-4872-acbf-3fe268f76eec"
      },
      "execution_count": 2,
      "outputs": [
        {
          "output_type": "stream",
          "name": "stdout",
          "text": [
            "GAUGGAACUUGACUACGUAAAUU\n"
          ]
        }
      ]
    },
    {
      "cell_type": "markdown",
      "source": [
        "**Problem 3**\n",
        "In DNA strings, symbols 'A' and 'T' are complements of each other, as are 'C' and 'G'.\n",
        "\n",
        "The reverse complement of a DNA string s\n",
        " is the string sc\n",
        " formed by reversing the symbols of s\n",
        ", then taking the complement of each symbol (e.g., the reverse complement of \"GTCA\" is \"TGAC\").\n",
        "\n",
        "Given: A DNA string s\n",
        " of length at most 1000 bp.\n",
        "\n",
        "Return: The reverse complement sc\n",
        " of s\n",
        ".\n",
        "\n",
        "Sample Dataset\n",
        "AAAACCCGGT\n",
        "Sample Output\n",
        "ACCGGGTTTT"
      ],
      "metadata": {
        "id": "hYHl0Tof3oPz"
      }
    },
    {
      "cell_type": "code",
      "source": [
        "#Problem 3 Complementing a Strand of DNA\n",
        "\n",
        "def reverse_complement(dna_string):\n",
        "    complement = {'A': 'T', 'C': 'G', 'G': 'C', 'T': 'A'}\n",
        "    reversed_dna = dna_string[::-1]\n",
        "    reversed_complement = ''.join([complement[base] for base in reversed_dna])\n",
        "    return reversed_complement\n",
        "# Sample dataset\n",
        "sample_dataset = \"AAAACCCGGT\"\n",
        "result = reverse_complement(sample_dataset)\n",
        "print(result)  # Expected Output: ACCGGGTTTT"
      ],
      "metadata": {
        "colab": {
          "base_uri": "https://localhost:8080/"
        },
        "id": "MbweWGgM3v6V",
        "outputId": "78fd2dc8-ed6d-4a39-d6a8-abd7219137a0"
      },
      "execution_count": 4,
      "outputs": [
        {
          "output_type": "stream",
          "name": "stdout",
          "text": [
            "ACCGGGTTTT\n"
          ]
        }
      ]
    },
    {
      "cell_type": "markdown",
      "source": [
        "**Problem 4**\n",
        "\n",
        "A sequence is an ordered collection of objects (usually numbers), which are allowed to repeat. Sequences can be finite or infinite. Two examples are the finite sequence (π,−2–√,0,π)\n",
        " and the infinite sequence of odd numbers (1,3,5,7,9,…)\n",
        ". We use the notation an\n",
        " to represent the n\n",
        "-th term of a sequence.\n",
        "\n",
        "A recurrence relation is a way of defining the terms of a sequence with respect to the values of previous terms. In the case of Fibonacci's rabbits from the introduction, any given month will contain the rabbits that were alive the previous month, plus any new offspring. A key observation is that the number of offspring in any month is equal to the number of rabbits that were alive two months prior. As a result, if Fn\n",
        " represents the number of rabbit pairs alive after the n\n",
        "-th month, then we obtain the Fibonacci sequence having terms Fn\n",
        " that are defined by the recurrence relation Fn=Fn−1+Fn−2\n",
        " (with F1=F2=1\n",
        " to initiate the sequence). Although the sequence bears Fibonacci's name, it was known to Indian mathematicians over two millennia ago.\n",
        "\n",
        "When finding the n\n",
        "-th term of a sequence defined by a recurrence relation, we can simply use the recurrence relation to generate terms for progressively larger values of n\n",
        ". This problem introduces us to the computational technique of dynamic programming, which successively builds up solutions by using the answers to smaller cases.\n",
        "\n",
        "Given: Positive integers n≤40\n",
        " and k≤5\n",
        ".\n",
        "\n",
        "Return: The total number of rabbit pairs that will be present after n\n",
        " months, if we begin with 1 pair and in each generation, every pair of reproduction-age rabbits produces a litter of k\n",
        " rabbit pairs (instead of only 1 pair).\n",
        "\n",
        "Sample Dataset\n",
        "5  3\n",
        "\n",
        "Sample Output\n",
        "19"
      ],
      "metadata": {
        "id": "dOKZydug3wrA"
      }
    },
    {
      "cell_type": "code",
      "source": [
        "#Problem 4 Recurrence relations\n",
        "\n",
        "def total_rabbit_pairs(n, k):\n",
        "    # Initialize the first two months\n",
        "    if n == 1:\n",
        "        return 1\n",
        "    elif n == 2:\n",
        "        return 1\n",
        "\n",
        "    # Create a list to store the number of pairs for each month\n",
        "    rabbits = [0] * (n + 1)\n",
        "    rabbits[1] = 1\n",
        "    rabbits[2] = 1\n",
        "\n",
        "    # Use the recurrence relation to fill in the list\n",
        "    for i in range(3, n + 1):\n",
        "        rabbits[i] = rabbits[i - 1] + k * rabbits[i - 2]\n",
        "\n",
        "    return rabbits[n]\n",
        "\n",
        "# Sample dataset\n",
        "n = 5\n",
        "k = 3\n",
        "result = total_rabbit_pairs(n, k)\n",
        "print(result)  # Expected Output: 19\n"
      ],
      "metadata": {
        "colab": {
          "base_uri": "https://localhost:8080/"
        },
        "id": "LL2d-lk33xBd",
        "outputId": "65268062-4bc6-43ab-92ca-948e90501ecf"
      },
      "execution_count": 5,
      "outputs": [
        {
          "output_type": "stream",
          "name": "stdout",
          "text": [
            "19\n"
          ]
        }
      ]
    },
    {
      "cell_type": "markdown",
      "source": [
        "**Problem 5**\n",
        "\n",
        "The GC-content of a DNA string is given by the percentage of symbols in the string that are 'C' or 'G'. For example, the GC-content of \"AGCTATAG\" is 37.5%. Note that the reverse complement of any DNA string has the same GC-content.\n",
        "\n",
        "DNA strings must be labeled when they are consolidated into a database. A commonly used method of string labeling is called FASTA format. In this format, the string is introduced by a line that begins with '>', followed by some labeling information. Subsequent lines contain the string itself; the first line to begin with '>' indicates the label of the next string.\n",
        "\n",
        "In Rosalind's implementation, a string in FASTA format will be labeled by the ID \"Rosalind_xxxx\", where \"xxxx\" denotes a four-digit code between 0000 and 9999.\n",
        "\n",
        "Given: At most 10 DNA strings in FASTA format (of length at most 1 kbp each).\n",
        "\n",
        "Return: The ID of the string having the highest GC-content, followed by the GC-content of that string. Rosalind allows for a default error of 0.001 in all decimal answers unless otherwise stated; please see the note on absolute error below.\n",
        "\n",
        "Sample Dataset\n",
        ">Rosalind_6404\n",
        "CCTGCGGAAGATCGGCACTAGAATAGCCAGAACCGTTTCTCTGAGGCTTCCGGCCTTCCC\n",
        "TCCCACTAATAATTCTGAGG\n",
        "\n",
        ">Rosalind_5959\n",
        "CCATCGGTAGCGCATCCTTAGTCCAATTAAGTCCCTATCCAGGCGCTCCGCCGAAGGTCT\n",
        "ATATCCATTTGTCAGCAGACACGC\n",
        "\n",
        ">Rosalind_0808\n",
        "CCACCCTCGTGGTATGGCTAGGCATTCAGGAACCGGAGAACGCTTCAGACCAGCCCGGAC\n",
        "TGGGAACCTGCGGGCAGTAGGTGGAAT"
      ],
      "metadata": {
        "id": "hBmiQ9_Z3xYH"
      }
    },
    {
      "cell_type": "code",
      "source": [
        "#Problem 5 Computing GC contents\n",
        "\n",
        "def parse_fasta(fasta_strings):\n",
        "    fasta_dict = {}\n",
        "    current_label = \"\"\n",
        "\n",
        "    for line in fasta_strings:\n",
        "        line = line.strip()\n",
        "        if line.startswith(\">\"):\n",
        "            current_label = line[1:]\n",
        "            fasta_dict[current_label] = \"\"\n",
        "        else:\n",
        "            fasta_dict[current_label] += line\n",
        "\n",
        "    return fasta_dict\n",
        "\n",
        "def gc_content(dna_string):\n",
        "    gc_count = dna_string.count('C') + dna_string.count('G')\n",
        "    return (gc_count / len(dna_string)) * 100\n",
        "\n",
        "def highest_gc_content(fasta_dict):\n",
        "    max_gc_label = \"\"\n",
        "    max_gc_content = 0.0\n",
        "\n",
        "    for label, dna_string in fasta_dict.items():\n",
        "        current_gc_content = gc_content(dna_string)\n",
        "        if current_gc_content > max_gc_content:\n",
        "            max_gc_content = current_gc_content\n",
        "            max_gc_label = label\n",
        "\n",
        "    return max_gc_label, max_gc_content\n",
        "\n",
        "# Sample dataset\n",
        "fasta_data = [\n",
        "    \">Rosalind_6404\",\n",
        "    \"CCTGCGGAAGATCGGCACTAGAATAGCCAGAACCGTTTCTCTGAGGCTTCCGGCCTTCCC\",\n",
        "    \"TCCCACTAATAATTCTGAGG\",\n",
        "    \">Rosalind_5959\",\n",
        "    \"CCATCGGTAGCGCATCCTTAGTCCAATTAAGTCCCTATCCAGGCGCTCCGCCGAAGGTCT\",\n",
        "    \"ATATCCATTTGTCAGCAGACACGC\",\n",
        "    \">Rosalind_0808\",\n",
        "    \"CCACCCTCGTGGTATGGCTAGGCATTCAGGAACCGGAGAACGCTTCAGACCAGCCCGGAC\",\n",
        "    \"TGGGAACCTGCGGGCAGTAGGTGGAAT\"\n",
        "]\n",
        "\n",
        "fasta_dict = parse_fasta(fasta_data)\n",
        "label, gc_content_value = highest_gc_content(fasta_dict)\n",
        "\n",
        "print(label)\n",
        "print(f\"{gc_content_value:.6f}\")\n"
      ],
      "metadata": {
        "colab": {
          "base_uri": "https://localhost:8080/"
        },
        "id": "ly0Bsu6Z3xss",
        "outputId": "29fe8e85-dbb5-445f-e9b9-87904df2b6af"
      },
      "execution_count": 6,
      "outputs": [
        {
          "output_type": "stream",
          "name": "stdout",
          "text": [
            "Rosalind_0808\n",
            "60.919540\n"
          ]
        }
      ]
    },
    {
      "cell_type": "markdown",
      "source": [
        "**Problem 6**\n",
        "\n",
        "Figure 2. The Hamming distance between these two strings is 7. Mismatched symbols are colored red.\n",
        "Given two strings s\n",
        " and t\n",
        " of equal length, the Hamming distance between s\n",
        " and t\n",
        ", denoted dH(s,t)\n",
        ", is the number of corresponding symbols that differ in s\n",
        " and t\n",
        ". See Figure 2.\n",
        "\n",
        "Given: Two DNA strings s\n",
        " and t\n",
        " of equal length (not exceeding 1 kbp).\n",
        "\n",
        "Return: The Hamming distance dH(s,t)\n",
        ".\n",
        "\n",
        "Sample Dataset\n",
        "GAGCCTACTAACGGGAT\n",
        "CATCGTAATGACGGCCT\n",
        "Sample Output\n",
        "7"
      ],
      "metadata": {
        "id": "8-YVB-3_96F8"
      }
    },
    {
      "cell_type": "code",
      "source": [
        "# Problem 6 Counting point mutation\n",
        "\n",
        "def hamming_distance(s, t):\n",
        "    distance = 0\n",
        "    for i in range(len(s)):\n",
        "        if s[i] != t[i]:\n",
        "            distance += 1\n",
        "    return distance\n",
        "\n",
        "# Sample dataset\n",
        "s = \"GAGCCTACTAACGGGAT\"\n",
        "t = \"CATCGTAATGACGGCCT\"\n",
        "result = hamming_distance(s, t)\n",
        "print(result)  # Expected Output: 7"
      ],
      "metadata": {
        "colab": {
          "base_uri": "https://localhost:8080/"
        },
        "id": "-SI1PoIR96U9",
        "outputId": "5918e1d5-4b69-45c3-dd4d-2c236fa9835d"
      },
      "execution_count": 7,
      "outputs": [
        {
          "output_type": "stream",
          "name": "stdout",
          "text": [
            "7\n"
          ]
        }
      ]
    },
    {
      "cell_type": "markdown",
      "source": [
        "**Problem 7**\n",
        "\n",
        "Figure 2. The probability of any outcome (leaf) in a probability tree diagram is given by the product of probabilities from the start of the tree to the outcome. For example, the probability that X is blue and Y is blue is equal to (2/5)(1/4), or 1/10.\n",
        "Probability is the mathematical study of randomly occurring phenomena. We will model such a phenomenon with a random variable, which is simply a variable that can take a number of different distinct outcomes depending on the result of an underlying random process.\n",
        "\n",
        "For example, say that we have a bag containing 3 red balls and 2 blue balls. If we let X\n",
        " represent the random variable corresponding to the color of a drawn ball, then the probability of each of the two outcomes is given by Pr(X=red)=35\n",
        " and Pr(X=blue)=25\n",
        ".\n",
        "\n",
        "Random variables can be combined to yield new random variables. Returning to the ball example, let Y\n",
        " model the color of a second ball drawn from the bag (without replacing the first ball). The probability of Y\n",
        " being red depends on whether the first ball was red or blue. To represent all outcomes of X\n",
        " and Y\n",
        ", we therefore use a probability tree diagram. This branching diagram represents all possible individual probabilities for X\n",
        " and Y\n",
        ", with outcomes at the endpoints (\"leaves\") of the tree. The probability of any outcome is given by the product of probabilities along the path from the beginning of the tree; see Figure 2 for an illustrative example.\n",
        "\n",
        "An event is simply a collection of outcomes. Because outcomes are distinct, the probability of an event can be written as the sum of the probabilities of its constituent outcomes. For our colored ball example, let A\n",
        " be the event \"Y\n",
        " is blue.\" Pr(A)\n",
        " is equal to the sum of the probabilities of two different outcomes: Pr(X=blue and Y=blue)+Pr(X=red and Y=blue)\n",
        ", or 310+110=25\n",
        " (see Figure 2 above).\n",
        "\n",
        "Given: Three positive integers k\n",
        ", m\n",
        ", and n\n",
        ", representing a population containing k+m+n\n",
        " organisms: k\n",
        " individuals are homozygous dominant for a factor, m\n",
        " are heterozygous, and n\n",
        " are homozygous recessive.\n",
        "\n",
        "Return: The probability that two randomly selected mating organisms will produce an individual possessing a dominant allele (and thus displaying the dominant phenotype). Assume that any two organisms can mate.\n",
        "\n",
        "Sample Dataset\n",
        "2 2 2\n",
        "Sample Output\n",
        "0.78333"
      ],
      "metadata": {
        "id": "w1jy45Du96lj"
      }
    },
    {
      "cell_type": "code",
      "source": [
        "#Problem 7 Mendel's first law\n",
        "\n",
        "def probability_dominant_allele(k, m, n):\n",
        "    total = k + m + n\n",
        "    total_pairs = total * (total - 1)\n",
        "\n",
        "    # Probabilities\n",
        "    prob_AA_AA = k * (k - 1) / total_pairs\n",
        "    prob_AA_Aa = 2 * k * m / total_pairs\n",
        "    prob_AA_aa = 2 * k * n / total_pairs\n",
        "    prob_Aa_Aa = m * (m - 1) / total_pairs * 3 / 4\n",
        "    prob_Aa_aa = 2 * m * n / total_pairs * 1 / 2\n",
        "\n",
        "    # Total probability of dominant phenotype\n",
        "    prob_dominant = prob_AA_AA + prob_AA_Aa + prob_AA_aa + prob_Aa_Aa + prob_Aa_aa\n",
        "\n",
        "    return prob_dominant\n",
        "\n",
        "# Sample dataset\n",
        "k = 2\n",
        "m = 2\n",
        "n = 2\n",
        "result = probability_dominant_allele(k, m, n)\n",
        "print(f\"{result:.5f}\")  # Expected Output: 0.78333\n"
      ],
      "metadata": {
        "colab": {
          "base_uri": "https://localhost:8080/"
        },
        "id": "Zf924yBS96yW",
        "outputId": "79712d6b-6fd5-4c4b-8a99-de5d5ce3603a"
      },
      "execution_count": 8,
      "outputs": [
        {
          "output_type": "stream",
          "name": "stdout",
          "text": [
            "0.78333\n"
          ]
        }
      ]
    },
    {
      "cell_type": "markdown",
      "source": [
        "**Problem 8**\n",
        "\n",
        "The 20 commonly occurring amino acids are abbreviated by using 20 letters from the English alphabet (all letters except for B, J, O, U, X, and Z). Protein strings are constructed from these 20 symbols. Henceforth, the term genetic string will incorporate protein strings along with DNA strings and RNA strings.\n",
        "\n",
        "The RNA codon table dictates the details regarding the encoding of specific codons into the amino acid alphabet.\n",
        "\n",
        "Given: An RNA string s\n",
        " corresponding to a strand of mRNA (of length at most 10 kbp).\n",
        "\n",
        "Return: The protein string encoded by s\n",
        ".\n",
        "\n",
        "Sample Dataset\n",
        "AUGGCCAUGGCGCCCAGAACUGAGAUCAAUAGUACCCGUAUUAACGGGUGA\n",
        "Sample Output\n",
        "MAMAPRTEINSTRING"
      ],
      "metadata": {
        "id": "jcPfwDw896__"
      }
    },
    {
      "cell_type": "code",
      "source": [
        "#Problem 8 Translating RNA into Protein\n",
        "\n",
        "def rna_to_protein(rna_string):\n",
        "    codon_table = {\n",
        "        'AUG': 'M', 'UGG': 'W',\n",
        "        'UUU': 'F', 'UUC': 'F', 'UUA': 'L', 'UUG': 'L',\n",
        "        'UCU': 'S', 'UCC': 'S', 'UCA': 'S', 'UCG': 'S',\n",
        "        'UAU': 'Y', 'UAC': 'Y', 'UAA': 'Stop', 'UAG': 'Stop',\n",
        "        'UGU': 'C', 'UGC': 'C', 'UGA': 'Stop',\n",
        "        'CUU': 'L', 'CUC': 'L', 'CUA': 'L', 'CUG': 'L',\n",
        "        'CCU': 'P', 'CCC': 'P', 'CCA': 'P', 'CCG': 'P',\n",
        "        'CAU': 'H', 'CAC': 'H', 'CAA': 'Q', 'CAG': 'Q',\n",
        "        'CGU': 'R', 'CGC': 'R', 'CGA': 'R', 'CGG': 'R',\n",
        "        'AUU': 'I', 'AUC': 'I', 'AUA': 'I', 'AUG': 'M',\n",
        "        'ACU': 'T', 'ACC': 'T', 'ACA': 'T', 'ACG': 'T',\n",
        "        'AAU': 'N', 'AAC': 'N', 'AAA': 'K', 'AAG': 'K',\n",
        "        'AGU': 'S', 'AGC': 'S', 'AGA': 'R', 'AGG': 'R',\n",
        "        'GUU': 'V', 'GUC': 'V', 'GUA': 'V', 'GUG': 'V',\n",
        "        'GCU': 'A', 'GCC': 'A', 'GCA': 'A', 'GCG': 'A',\n",
        "        'GAU': 'D', 'GAC': 'D', 'GAA': 'E', 'GAG': 'E',\n",
        "        'GGU': 'G', 'GGC': 'G', 'GGA': 'G', 'GGG': 'G'\n",
        "    }\n",
        "\n",
        "    protein_string = \"\"\n",
        "    for i in range(0, len(rna_string), 3):\n",
        "        codon = rna_string[i:i+3]\n",
        "        amino_acid = codon_table.get(codon)\n",
        "        if amino_acid == 'Stop':\n",
        "            break\n",
        "        if amino_acid:\n",
        "            protein_string += amino_acid\n",
        "\n",
        "    return protein_string\n",
        "\n",
        "# Sample dataset\n",
        "sample_dataset = \"AUGGCCAUGGCGCCCAGAACUGAGAUCAAUAGUACCCGUAUUAACGGGUGA\"\n",
        "result = rna_to_protein(sample_dataset)\n",
        "print(result)  # Expected Output: MAMAPRTEINSTRING\n"
      ],
      "metadata": {
        "colab": {
          "base_uri": "https://localhost:8080/"
        },
        "id": "DOXkS6bb97Od",
        "outputId": "a2350acc-56dd-4764-fc06-d2c60a832de0"
      },
      "execution_count": 9,
      "outputs": [
        {
          "output_type": "stream",
          "name": "stdout",
          "text": [
            "MAMAPRTEINSTRING\n"
          ]
        }
      ]
    },
    {
      "cell_type": "markdown",
      "source": [
        "**Problem 9**\n",
        "\n",
        "Given two strings s\n",
        " and t\n",
        ", t\n",
        " is a substring of s\n",
        " if t\n",
        " is contained as a contiguous collection of symbols in s\n",
        " (as a result, t\n",
        " must be no longer than s\n",
        ").\n",
        "\n",
        "The position of a symbol in a string is the total number of symbols found to its left, including itself (e.g., the positions of all occurrences of 'U' in \"AUGCUUCAGAAAGGUCUUACG\" are 2, 5, 6, 15, 17, and 18). The symbol at position i\n",
        " of s\n",
        " is denoted by s[i]\n",
        ".\n",
        "\n",
        "A substring of s\n",
        " can be represented as s[j:k]\n",
        ", where j\n",
        " and k\n",
        " represent the starting and ending positions of the substring in s\n",
        "; for example, if s\n",
        " = \"AUGCUUCAGAAAGGUCUUACG\", then s[2:5]\n",
        " = \"UGCU\".\n",
        "\n",
        "The location of a substring s[j:k]\n",
        " is its beginning position j\n",
        "; note that t\n",
        " will have multiple locations in s\n",
        " if it occurs more than once as a substring of s\n",
        " (see the Sample below).\n",
        "\n",
        "Given: Two DNA strings s\n",
        " and t\n",
        " (each of length at most 1 kbp).\n",
        "\n",
        "Return: All locations of t\n",
        " as a substring of s\n",
        ".\n",
        "\n",
        "Sample Dataset\n",
        "GATATATGCATATACTT\n",
        "ATAT\n",
        "Sample Output\n",
        "2 4 10"
      ],
      "metadata": {
        "id": "PUKYS46297cv"
      }
    },
    {
      "cell_type": "code",
      "source": [
        "#problem 9 finding a motif\n",
        "\n",
        "def find_substring_locations(s, t):\n",
        "    positions = []\n",
        "    len_s = len(s)\n",
        "    len_t = len(t)\n",
        "\n",
        "    for i in range(len_s - len_t + 1):\n",
        "        if s[i:i+len_t] == t:\n",
        "            positions.append(i + 1)  # 1-based index\n",
        "\n",
        "    return positions\n",
        "\n",
        "# Sample dataset\n",
        "s = \"GATATATGCATATACTT\"\n",
        "t = \"ATAT\"\n",
        "result = find_substring_locations(s, t)\n",
        "print(\" \".join(map(str, result)))  # Expected Output: 2 4 10\n"
      ],
      "metadata": {
        "colab": {
          "base_uri": "https://localhost:8080/"
        },
        "id": "4xLLmgKw97qX",
        "outputId": "9ddd652f-2bb5-4b38-b142-68048fdc0117"
      },
      "execution_count": 10,
      "outputs": [
        {
          "output_type": "stream",
          "name": "stdout",
          "text": [
            "2 4 10\n"
          ]
        }
      ]
    },
    {
      "cell_type": "markdown",
      "source": [
        "**Problem 10**\n",
        "\n",
        "A matrix is a rectangular table of values divided into rows and columns. An m×n\n",
        " matrix has m\n",
        " rows and n\n",
        " columns. Given a matrix A\n",
        ", we write Ai,j\n",
        " to indicate the value found at the intersection of row i\n",
        " and column j\n",
        ".\n",
        "\n",
        "Say that we have a collection of DNA strings, all having the same length n\n",
        ". Their profile matrix is a 4×n\n",
        " matrix P\n",
        " in which P1,j\n",
        " represents the number of times that 'A' occurs in the j\n",
        "th position of one of the strings, P2,j\n",
        " represents the number of times that C occurs in the j\n",
        "th position, and so on (see below).\n",
        "\n",
        "A consensus string c\n",
        " is a string of length n\n",
        " formed from our collection by taking the most common symbol at each position; the j\n",
        "th symbol of c\n",
        " therefore corresponds to the symbol having the maximum value in the j\n",
        "-th column of the profile matrix. Of course, there may be more than one most common symbol, leading to multiple possible consensus strings.\n",
        "\n",
        "A T C C A G C T\n",
        "G G G C A A C T\n",
        "A T G G A T C T\n",
        "DNA Strings\tA A G C A A C C\n",
        "T T G G A A C T\n",
        "A T G C C A T T\n",
        "A T G G C A C T\n",
        "A   5 1 0 0 5 5 0 0\n",
        "Profile\tC   0 0 1 4 2 0 6 1\n",
        "G   1 1 6 3 0 1 0 0\n",
        "T   1 5 0 0 0 1 1 6\n",
        "Consensus\tA T G C A A C T\n",
        "Given: A collection of at most 10 DNA strings of equal length (at most 1 kbp) in FASTA format.\n",
        "\n",
        "Return: A consensus string and profile matrix for the collection. (If several possible consensus strings exist, then you may return any one of them.)\n",
        "\n",
        "Sample Dataset\n",
        ">Rosalind_1\n",
        "ATCCAGCT\n",
        ">Rosalind_2\n",
        "GGGCAACT\n",
        ">Rosalind_3\n",
        "ATGGATCT\n",
        ">Rosalind_4\n",
        "AAGCAACC\n",
        ">Rosalind_5\n",
        "TTGGAACT\n",
        ">Rosalind_6\n",
        "ATGCCATT\n",
        ">Rosalind_7\n",
        "ATGGCACT\n",
        "Sample Output\n",
        "ATGCAACT\n",
        "A: 5 1 0 0 5 5 0 0\n",
        "C: 0 0 1 4 2 0 6 1\n",
        "G: 1 1 6 3 0 1 0 0\n",
        "T: 1 5 0 0 0 1 1 6"
      ],
      "metadata": {
        "id": "TzvPezMEK5XT"
      }
    },
    {
      "cell_type": "code",
      "source": [
        "#Problem 10 Consensus and Profile\n",
        "\n",
        "def parse_fasta(fasta_strings):\n",
        "    fasta_dict = {}\n",
        "    current_label = \"\"\n",
        "    for line in fasta_strings:\n",
        "        line = line.strip()\n",
        "        if line.startswith(\">\"):\n",
        "            current_label = line[1:]\n",
        "            fasta_dict[current_label] = \"\"\n",
        "        else:\n",
        "            fasta_dict[current_label] += line\n",
        "    return list(fasta_dict.values())\n",
        "\n",
        "def create_profile_matrix(dna_strings):\n",
        "    n = len(dna_strings[0])\n",
        "    profile_matrix = {\n",
        "        'A': [0] * n,\n",
        "        'C': [0] * n,\n",
        "        'G': [0] * n,\n",
        "        'T': [0] * n\n",
        "    }\n",
        "\n",
        "    for dna in dna_strings:\n",
        "        for i, nucleotide in enumerate(dna):\n",
        "            profile_matrix[nucleotide][i] += 1\n",
        "\n",
        "    return profile_matrix\n",
        "\n",
        "def get_consensus_string(profile_matrix, length):\n",
        "    consensus = []\n",
        "    for i in range(length):\n",
        "        max_count = 0\n",
        "        consensus_nucleotide = ''\n",
        "        for nucleotide in 'ACGT':\n",
        "            if profile_matrix[nucleotide][i] > max_count:\n",
        "                max_count = profile_matrix[nucleotide][i]\n",
        "                consensus_nucleotide = nucleotide\n",
        "        consensus.append(consensus_nucleotide)\n",
        "    return ''.join(consensus)\n",
        "\n",
        "def print_profile_matrix(profile_matrix):\n",
        "    for nucleotide in 'ACGT':\n",
        "        print(f\"{nucleotide}: {' '.join(map(str, profile_matrix[nucleotide]))}\")\n",
        "\n",
        "# Sample dataset\n",
        "fasta_data = [\n",
        "    \">Rosalind_1\",\n",
        "    \"ATCCAGCT\",\n",
        "    \">Rosalind_2\",\n",
        "    \"GGGCAACT\",\n",
        "    \">Rosalind_3\",\n",
        "    \"ATGGATCT\",\n",
        "    \">Rosalind_4\",\n",
        "    \"AAGCAACC\",\n",
        "    \">Rosalind_5\",\n",
        "    \"TTGGAACT\",\n",
        "    \">Rosalind_6\",\n",
        "    \"ATGCCATT\",\n",
        "    \">Rosalind_7\",\n",
        "    \"ATGGCACT\"\n",
        "]\n",
        "\n",
        "# Parse the input data\n",
        "dna_strings = parse_fasta(fasta_data)\n",
        "\n",
        "# Create the profile matrix\n",
        "profile_matrix = create_profile_matrix(dna_strings)\n",
        "\n",
        "# Get the consensus string\n",
        "consensus_string = get_consensus_string(profile_matrix, len(dna_strings[0]))\n",
        "\n",
        "# Print the results\n",
        "print(consensus_string)\n",
        "print_profile_matrix(profile_matrix)\n"
      ],
      "metadata": {
        "colab": {
          "base_uri": "https://localhost:8080/"
        },
        "id": "vrScHQDhK5l0",
        "outputId": "f0e8a5a5-1c89-4a9f-9be9-0ebebc658ef7"
      },
      "execution_count": 11,
      "outputs": [
        {
          "output_type": "stream",
          "name": "stdout",
          "text": [
            "ATGCAACT\n",
            "A: 5 1 0 0 5 5 0 0\n",
            "C: 0 0 1 4 2 0 6 1\n",
            "G: 1 1 6 3 0 1 0 0\n",
            "T: 1 5 0 0 0 1 1 6\n"
          ]
        }
      ]
    }
  ]
}